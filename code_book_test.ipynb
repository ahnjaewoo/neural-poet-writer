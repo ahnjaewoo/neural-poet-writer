{
 "cells": [
  {
   "cell_type": "code",
   "execution_count": 1,
   "metadata": {
    "collapsed": true
   },
   "outputs": [],
   "source": [
    "from utils.code_book import code_book\n",
    "        "
   ]
  },
  {
   "cell_type": "code",
   "execution_count": 2,
   "metadata": {
    "collapsed": true
   },
   "outputs": [],
   "source": [
    "mac = code_book()"
   ]
  },
  {
   "cell_type": "code",
   "execution_count": 3,
   "metadata": {},
   "outputs": [
    {
     "name": "stdout",
     "output_type": "stream",
     "text": [
      "gather function test\n",
      "0\n",
      "{}\n",
      "1\n",
      "{'a': 0}\n",
      "3\n",
      "{'a': 0, 'b': 1, 'e': 2}\n",
      "4\n",
      "{'a': 0, 'b': 1, 'e': 2, 'f': 3}\n"
     ]
    }
   ],
   "source": [
    "print(\"gather function test\")\n",
    "mac.debug_print()\n",
    "mac.gather('a')\n",
    "mac.debug_print()\n",
    "mac.gather('b')\n",
    "mac.gather('e')\n",
    "mac.gather('a')\n",
    "mac.debug_print()\n",
    "mac.gather('f')\n",
    "mac.gather('a')\n",
    "mac.gather('b')\n",
    "mac.gather('a')\n",
    "mac.debug_print()"
   ]
  },
  {
   "cell_type": "code",
   "execution_count": 4,
   "metadata": {},
   "outputs": [
    {
     "name": "stdout",
     "output_type": "stream",
     "text": [
      "save function test\n"
     ]
    }
   ],
   "source": [
    "print(\"save function test\")\n",
    "mac.save_to('vector_save.txt')"
   ]
  },
  {
   "cell_type": "code",
   "execution_count": 5,
   "metadata": {},
   "outputs": [
    {
     "name": "stdout",
     "output_type": "stream",
     "text": [
      "load function test\n",
      "4\n",
      "{'a': 0, 'b': 1, 'e': 2, 'f': 3}\n"
     ]
    }
   ],
   "source": [
    "print(\"load function test\")\n",
    "mac.load_from('vector_save.txt')\n",
    "mac.debug_print()"
   ]
  },
  {
   "cell_type": "code",
   "execution_count": 6,
   "metadata": {},
   "outputs": [
    {
     "name": "stdout",
     "output_type": "stream",
     "text": [
      "vectors function test\n"
     ]
    },
    {
     "data": {
      "text/plain": [
       "array([[ 1.,  0.,  0.,  0.],\n",
       "       [ 1.,  0.,  0.,  0.],\n",
       "       [ 0.,  1.,  0.,  0.],\n",
       "       [ 0.,  0.,  1.,  0.],\n",
       "       [ 0.,  0.,  0.,  1.],\n",
       "       [ 0.,  1.,  0.,  0.],\n",
       "       [ 1.,  0.,  0.,  0.],\n",
       "       [ 0.,  0.,  1.,  0.]])"
      ]
     },
     "execution_count": 6,
     "metadata": {},
     "output_type": "execute_result"
    }
   ],
   "source": [
    "print(\"vectors function test\")\n",
    "mac.get_vectors(\"aabefbae\")"
   ]
  },
  {
   "cell_type": "code",
   "execution_count": 7,
   "metadata": {},
   "outputs": [
    {
     "name": "stdout",
     "output_type": "stream",
     "text": [
      "size function test\n"
     ]
    },
    {
     "data": {
      "text/plain": [
       "4"
      ]
     },
     "execution_count": 7,
     "metadata": {},
     "output_type": "execute_result"
    }
   ],
   "source": [
    "print(\"size function test\")\n",
    "mac.size()"
   ]
  }
 ],
 "metadata": {
  "kernelspec": {
   "display_name": "Python 3",
   "language": "python",
   "name": "python3"
  },
  "language_info": {
   "codemirror_mode": {
    "name": "ipython",
    "version": 3
   },
   "file_extension": ".py",
   "mimetype": "text/x-python",
   "name": "python",
   "nbconvert_exporter": "python",
   "pygments_lexer": "ipython3",
   "version": "3.6.3"
  }
 },
 "nbformat": 4,
 "nbformat_minor": 1
}
