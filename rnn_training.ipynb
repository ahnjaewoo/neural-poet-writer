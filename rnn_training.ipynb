{
 "cells": [
  {
   "cell_type": "code",
   "execution_count": null,
   "metadata": {
    "collapsed": true
   },
   "outputs": [],
   "source": [
    "from rnn.model import *\n",
    "from rnn.train import *\n",
    "from rnn.predict import *\n",
    "from utils.data_loader import *"
   ]
  },
  {
   "cell_type": "code",
   "execution_count": null,
   "metadata": {
    "collapsed": true
   },
   "outputs": [],
   "source": [
    "# Hyper params\n",
    "hidden_size = 128\n",
    "batch_size = 10\n",
    "sequence_len = 200\n",
    "lr = 0.01\n",
    "n_layers = 1\n",
    "n_epochs = -1\n",
    "print_cycle = 100\n",
    "save_cycle = 10000\n",
    "\n",
    "# Data path\n",
    "rawdata_dir = 'raw_data'\n",
    "middata_dir = 'mid_data'\n",
    "poem_dir = \"poem_result\"\n",
    "model_dir = \"rnn_models\""
   ]
  },
  {
   "cell_type": "code",
   "execution_count": null,
   "metadata": {},
   "outputs": [],
   "source": [
    "# loda data with preprocessing\n",
    "loader = data_loader(sequence_len, batch_size, rawdata_dir, middata_dir)\n",
    "loader.preprocess()"
   ]
  },
  {
   "cell_type": "code",
   "execution_count": null,
   "metadata": {},
   "outputs": [],
   "source": [
    "# load data from file\n",
    "# data loader\n",
    "loader = data_loader(sequence_len, batch_size, rawdata_dir, middata_dir)\n",
    "loader.load()"
   ]
  },
  {
   "cell_type": "code",
   "execution_count": null,
   "metadata": {},
   "outputs": [],
   "source": [
    "# load functionality check\n",
    "cb = loader.cb\n",
    "data_batch = loader.np_batchs\n",
    "print(\"Input Vector Size : \" + str(cb.size()))\n",
    "print(\"Total Batch Num : \" + str(len(data_batch)))\n",
    "print(data_batch)"
   ]
  },
  {
   "cell_type": "code",
   "execution_count": null,
   "metadata": {},
   "outputs": [],
   "source": [
    "# Required Params\n",
    "input_size = cb.size()\n",
    "output_size = cb.size()\n",
    "start_sequence = cb.get_number(\"A\")\n",
    "# Model\n",
    "decoder = RNN(input_size, hidden_size, output_size, n_layers)\n",
    "optimizer = torch.optim.Adam(decoder.parameters(), lr)\n",
    "criterion = nn.CrossEntropyLoss()\n",
    "start = time.time()\n",
    "all_losses = []\n",
    "loss_avg = 0\n",
    "\n",
    "model_num = 0\n",
    "\n",
    "#print(*random_training_set(data_batch, sequence_len, batch_size))\n",
    "\n",
    "try:\n",
    "    if (n_epochs == -1):\n",
    "        epoch = 0\n",
    "        while (True):\n",
    "            epoch += 1\n",
    "            loss = train(decoder, optimizer, criterion, sequence_len, batch_size , *random_training_set(data_batch, sequence_len, batch_size))\n",
    "            loss_avg += loss\n",
    "            \n",
    "            if epoch % print_cycle == 0:\n",
    "                print('[Time : %s, Epoach : (%d), Loss : %.4f]' % (time_since(start), epoch, loss))\n",
    "                \n",
    "            if (epoch % save_cycle == 0):\n",
    "                model_num += 1\n",
    "                print(\"Save %d model\" % (model_num))\n",
    "                f = open(\"./\" + poem_dir + \"/poem\" + str(model_num) + \".txt\", 'w')\n",
    "                predicted = predict(decoder, start_sequence, 1000)\n",
    "                f.write(cb.get_string(predicted))\n",
    "                save(decoder, \"./\"+model_dir+\"/rnn_model\"+str(model_num))\n",
    "                f.close()\n",
    "\n",
    "    else :\n",
    "        # TODO\n",
    "        print(\"hi\")\n",
    "        \n",
    "except KeyboardInterrupt:\n",
    "    print(\"Saving before quit...\")\n",
    "    save(decoder, \"./\"+model_dir+\"/rnn_model\"+str(model_num))"
   ]
  },
  {
   "cell_type": "code",
   "execution_count": null,
   "metadata": {
    "collapsed": true
   },
   "outputs": [],
   "source": []
  },
  {
   "cell_type": "code",
   "execution_count": null,
   "metadata": {
    "collapsed": true
   },
   "outputs": [],
   "source": []
  }
 ],
 "metadata": {
  "kernelspec": {
   "display_name": "Python 3",
   "language": "python",
   "name": "python3"
  },
  "language_info": {
   "codemirror_mode": {
    "name": "ipython",
    "version": 3
   },
   "file_extension": ".py",
   "mimetype": "text/x-python",
   "name": "python",
   "nbconvert_exporter": "python",
   "pygments_lexer": "ipython3",
   "version": "3.6.3"
  }
 },
 "nbformat": 4,
 "nbformat_minor": 2
}
