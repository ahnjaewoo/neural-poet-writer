{
 "cells": [
  {
   "cell_type": "code",
   "execution_count": 1,
   "metadata": {},
   "outputs": [],
   "source": [
    "from rnn.model import *\n",
    "from rnn.train import *\n",
    "from rnn.predict import *\n",
    "from utils.data_loader import *"
   ]
  },
  {
   "cell_type": "code",
   "execution_count": 2,
   "metadata": {},
   "outputs": [],
   "source": [
    "# Hyper params\n",
    "hidden_size = 128\n",
    "batch_size = 10\n",
    "sequence_len = 100\n",
    "lr = 0.01\n",
    "n_layers = 1\n",
    "n_epochs = -1\n",
    "cycle = 100"
   ]
  },
  {
   "cell_type": "code",
   "execution_count": 3,
   "metadata": {},
   "outputs": [],
   "source": [
    "# load data from file\n",
    "#data loader\n",
    "loader = data_loader(sequence_len, batch_size)\n",
    "loader.load()"
   ]
  },
  {
   "cell_type": "code",
   "execution_count": 7,
   "metadata": {},
   "outputs": [
    {
     "name": "stdout",
     "output_type": "stream",
     "text": [
      "Input Vector Size : 272\n",
      "Total Batch Num : 21023\n",
      "<utils.code_book.code_book object at 0x10ed3c278>\n",
      "[[[ 38   5   1 ...,  13 100   0]\n",
      "  [ 11   3   1 ...,   0  18   9]\n",
      "  [  3  16   6 ...,  13  19   7]\n",
      "  ..., \n",
      "  [ 17   4   5 ...,  13  11  11]\n",
      "  [  1   5  10 ...,  10   3   5]\n",
      "  [ 16  12   1 ...,   8   4   5]]\n",
      "\n",
      " [[  2   3  14 ...,   9  14   0]\n",
      "  [ 14  19   0 ...,  12  18   3]\n",
      "  [  9   0  10 ...,   8   4  11]\n",
      "  ..., \n",
      "  [  0  14  19 ...,   7   2   8]\n",
      "  [  0   8  13 ...,   2   8   1]\n",
      "  [  9   1  20 ...,   3   2   0]]\n",
      "\n",
      " [[  1  25   1 ...,   5   0  17]\n",
      "  [  4   9   9 ...,  12  27   8]\n",
      "  [  1   0  11 ...,   3  13   6]\n",
      "  ..., \n",
      "  [  1   1   0 ...,   9   4  16]\n",
      "  [  3   5  18 ...,  22  10   4]\n",
      "  [ 17  24  20 ...,   6   3   5]]\n",
      "\n",
      " ..., \n",
      " [[ 10  19   0 ...,   1   6   1]\n",
      "  [  0   2   8 ...,  16   1   5]\n",
      "  [  1   9   4 ...,   8   4   2]\n",
      "  ..., \n",
      "  [  8   1   0 ...,   1   6  12]\n",
      "  [ 10   7  24 ...,   2   3   0]\n",
      "  [ 14  19   0 ...,   6   0  15]]\n",
      "\n",
      " [[  7  10  10 ...,   4  19  12]\n",
      "  [  4   6   0 ...,   0   3   5]\n",
      "  [ 10  19   0 ...,   8   2  23]\n",
      "  ..., \n",
      "  [  8   4   2 ...,   3   0   1]\n",
      "  [ 42  21   4 ...,  11   0  18]\n",
      "  [  3   3   2 ...,   5   1  25]]\n",
      "\n",
      " [[  1   9   0 ...,  18   7  11]\n",
      "  [  1   5   2 ...,  25   7   5]\n",
      "  [ 16   0   1 ...,   4  17   1]\n",
      "  ..., \n",
      "  [  5  11   0 ...,   3   5   0]\n",
      "  [ 21  13   2 ...,  16   6   0]\n",
      "  [  4   5  11 ...,   7  21   2]]]\n"
     ]
    }
   ],
   "source": [
    "# load functionality check\n",
    "cb = loader.cb\n",
    "data_batch = loader.np_batchs\n",
    "print(\"Input Vector Size : \" + str(cb.size()))\n",
    "print(\"Total Batch Num : \" + str(len(data_batch)))\n",
    "print(data_batch)"
   ]
  },
  {
   "cell_type": "code",
   "execution_count": 9,
   "metadata": {},
   "outputs": [
    {
     "name": "stdout",
     "output_type": "stream",
     "text": [
      "[28]\n",
      "1\n",
      "2\n",
      "3\n",
      "4\n",
      "5\n",
      "6\n",
      "7\n",
      "8\n",
      "9\n",
      "10\n",
      "11\n",
      "12\n",
      "13\n",
      "14\n",
      "15\n",
      "16\n",
      "17\n",
      "18\n",
      "19\n",
      "Saving before quit...\n",
      "Saved as rnn_model1512560107.pt\n"
     ]
    }
   ],
   "source": [
    "# Required Params\n",
    "input_size = cb.size()\n",
    "output_size = cb.size()\n",
    "start_sequence = cb.get_number(\"A\")\n",
    "# Model\n",
    "decoder = RNN(input_size, hidden_size, output_size, n_layers)\n",
    "optimizer = torch.optim.Adam(decoder.parameters(), lr)\n",
    "criterion = nn.CrossEntropyLoss()\n",
    "start = time.time()\n",
    "all_losses = []\n",
    "loss_avg = 0\n",
    "\n",
    "try:\n",
    "    if (n_epochs == -1):\n",
    "        epoch = 0\n",
    "        while (True):\n",
    "            epoch += 1\n",
    "            loss = train(decoder, optimizer, criterion, sequence_len, batch_size , *random_training_set(data_batch, sequence_len, batch_size))\n",
    "            loss_avg += loss\n",
    "            \n",
    "            print(epoch)\n",
    "            if epoch % cycle == 0:\n",
    "                print('[Time : %s, Epoach : (%d), Loss : %.4f]' % (time_since(start), epoch, loss))\n",
    "                print(predict(decoder, start_vector), '\\n')\n",
    "                #save(decoder, \"./model/rnn_model\"+str(time.time()))\n",
    "\n",
    "    else :\n",
    "        print(\"hi\")\n",
    "        \n",
    "except KeyboardInterrupt:\n",
    "    print(\"Saving before quit...\")\n",
    "    save(decoder, \"./model/rnn_model\"+str(time.time()))"
   ]
  },
  {
   "cell_type": "code",
   "execution_count": null,
   "metadata": {
    "collapsed": true
   },
   "outputs": [],
   "source": []
  },
  {
   "cell_type": "code",
   "execution_count": null,
   "metadata": {
    "collapsed": true
   },
   "outputs": [],
   "source": []
  }
 ],
 "metadata": {
  "kernelspec": {
   "display_name": "Python 3",
   "language": "python",
   "name": "python3"
  },
  "language_info": {
   "codemirror_mode": {
    "name": "ipython",
    "version": 3
   },
   "file_extension": ".py",
   "mimetype": "text/x-python",
   "name": "python",
   "nbconvert_exporter": "python",
   "pygments_lexer": "ipython3",
   "version": "3.6.3"
  }
 },
 "nbformat": 4,
 "nbformat_minor": 2
}
