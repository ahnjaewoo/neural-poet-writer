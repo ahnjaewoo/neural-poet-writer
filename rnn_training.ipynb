{
 "cells": [
  {
   "cell_type": "code",
   "execution_count": 1,
   "metadata": {
    "collapsed": true
   },
   "outputs": [],
   "source": [
    "from rnn.model import *\n",
    "from rnn.train import *\n",
    "from rnn.predict import *\n",
    "from utils.data_loader import *"
   ]
  },
  {
   "cell_type": "code",
   "execution_count": 2,
   "metadata": {
    "collapsed": true
   },
   "outputs": [],
   "source": [
    "# Hyper params\n",
    "hidden_size = 128\n",
    "batch_size = 10\n",
    "sequence_len = 100\n",
    "lr = 0.01\n",
    "n_layers = 1\n",
    "n_epochs = -1\n",
    "cycle = 10"
   ]
  },
  {
   "cell_type": "code",
   "execution_count": 3,
   "metadata": {
    "collapsed": true
   },
   "outputs": [],
   "source": [
    "# load data from file\n",
    "#data loader\n",
    "loader = data_loader(sequence_len, batch_size)\n",
    "loader.load()"
   ]
  },
  {
   "cell_type": "code",
   "execution_count": 4,
   "metadata": {},
   "outputs": [
    {
     "name": "stdout",
     "output_type": "stream",
     "text": [
      "Input Vector Size : 272\n",
      "Total Batch Num : 21023\n",
      "[[[ 38   5   1 ...,  13 100   0]\n",
      "  [ 11   3   1 ...,   0  18   9]\n",
      "  [  3  16   6 ...,  13  19   7]\n",
      "  ..., \n",
      "  [ 17   4   5 ...,  13  11  11]\n",
      "  [  1   5  10 ...,  10   3   5]\n",
      "  [ 16  12   1 ...,   8   4   5]]\n",
      "\n",
      " [[  2   3  14 ...,   9  14   0]\n",
      "  [ 14  19   0 ...,  12  18   3]\n",
      "  [  9   0  10 ...,   8   4  11]\n",
      "  ..., \n",
      "  [  0  14  19 ...,   7   2   8]\n",
      "  [  0   8  13 ...,   2   8   1]\n",
      "  [  9   1  20 ...,   3   2   0]]\n",
      "\n",
      " [[  1  25   1 ...,   5   0  17]\n",
      "  [  4   9   9 ...,  12  27   8]\n",
      "  [  1   0  11 ...,   3  13   6]\n",
      "  ..., \n",
      "  [  1   1   0 ...,   9   4  16]\n",
      "  [  3   5  18 ...,  22  10   4]\n",
      "  [ 17  24  20 ...,   6   3   5]]\n",
      "\n",
      " ..., \n",
      " [[ 10  19   0 ...,   1   6   1]\n",
      "  [  0   2   8 ...,  16   1   5]\n",
      "  [  1   9   4 ...,   8   4   2]\n",
      "  ..., \n",
      "  [  8   1   0 ...,   1   6  12]\n",
      "  [ 10   7  24 ...,   2   3   0]\n",
      "  [ 14  19   0 ...,   6   0  15]]\n",
      "\n",
      " [[  7  10  10 ...,   4  19  12]\n",
      "  [  4   6   0 ...,   0   3   5]\n",
      "  [ 10  19   0 ...,   8   2  23]\n",
      "  ..., \n",
      "  [  8   4   2 ...,   3   0   1]\n",
      "  [ 42  21   4 ...,  11   0  18]\n",
      "  [  3   3   2 ...,   5   1  25]]\n",
      "\n",
      " [[  1   9   0 ...,  18   7  11]\n",
      "  [  1   5   2 ...,  25   7   5]\n",
      "  [ 16   0   1 ...,   4  17   1]\n",
      "  ..., \n",
      "  [  5  11   0 ...,   3   5   0]\n",
      "  [ 21  13   2 ...,  16   6   0]\n",
      "  [  4   5  11 ...,   7  21   2]]]\n"
     ]
    }
   ],
   "source": [
    "# load functionality check\n",
    "cb = loader.cb\n",
    "data_batch = loader.np_batchs\n",
    "print(\"Input Vector Size : \" + str(cb.size()))\n",
    "print(\"Total Batch Num : \" + str(len(data_batch)))\n",
    "print(data_batch)"
   ]
  },
  {
   "cell_type": "code",
   "execution_count": 5,
   "metadata": {},
   "outputs": [
    {
     "name": "stdout",
     "output_type": "stream",
     "text": [
      "1\n",
      "2\n",
      "3\n",
      "4\n",
      "5\n",
      "6\n",
      "7\n",
      "8\n",
      "9\n",
      "10\n",
      "[Time : 0m 2s, Epoach : (10), Loss : 2.9712]\n",
      "[27, 1, 10, 4, 0, 3, 3, 13, 2, 27, 3, 7, 1, 10, 1, 6, 19, 7, 4, 0, 4, 11, 7, 6, 5, 4, 2, 13, 12, 20, 4, 6, 3, 6, 5, 10, 3, 6, 1, 0, 4, 5, 4, 9, 0, 24, 4, 8, 4, 4, 1, 4, 8, 4, 0, 0, 0, 6, 6, 17, 15, 1, 1, 0, 7, 7, 4, 19, 18, 6, 3, 18, 3, 8, 1, 4, 8, 9, 21, 9, 1, 1, 27, 3, 6, 1, 5, 2, 5, 6, 20, 10, 10, 8, 1, 6, 19, 7, 1] \n",
      "\n",
      "11\n",
      "12\n",
      "13\n",
      "14\n",
      "15\n",
      "16\n",
      "17\n",
      "18\n",
      "19\n",
      "20\n",
      "[Time : 0m 4s, Epoach : (20), Loss : 2.4940]\n",
      "[35, 2, 6, 5, 9, 10, 5, 6, 9, 10, 6, 10, 10, 9, 5, 3, 10, 13, 9, 1, 21, 5, 6, 9, 7, 2, 18, 5, 16, 17, 21, 6, 4, 11, 16, 5, 4, 2, 17, 43, 9, 2, 14, 4, 21, 6, 9, 17, 17, 2, 21, 11, 10, 5, 5, 9, 14, 31, 21, 5, 3, 1, 2, 15, 9, 10, 9, 16, 18, 1, 6, 4, 6, 2, 2, 14, 28, 1, 2, 2, 5, 9, 10, 2, 6, 7, 9, 5, 9, 5, 2, 2, 5, 3, 6, 0, 2, 5, 7] \n",
      "\n",
      "21\n",
      "22\n",
      "23\n",
      "24\n",
      "25\n",
      "26\n",
      "27\n",
      "28\n",
      "29\n",
      "30\n",
      "[Time : 0m 6s, Epoach : (30), Loss : 2.4579]\n",
      "[17, 14, 11, 5, 24, 1, 5, 5, 2, 6, 3, 6, 6, 16, 15, 8, 2, 22, 6, 11, 2, 6, 5, 10, 6, 5, 7, 17, 6, 2, 11, 2, 0, 5, 11, 4, 39, 2, 0, 6, 2, 11, 2, 6, 24, 6, 2, 5, 10, 44, 2, 5, 16, 6, 5, 5, 11, 15, 5, 11, 11, 16, 2, 5, 6, 6, 10, 5, 5, 2, 5, 17, 11, 22, 5, 5, 24, 2, 5, 6, 11, 3, 12, 5, 11, 6, 0, 5, 20, 5, 5, 11, 12, 19, 2, 0, 6, 6, 6] \n",
      "\n",
      "31\n",
      "32\n",
      "33\n",
      "34\n",
      "35\n",
      "36\n",
      "37\n",
      "38\n",
      "39\n",
      "40\n",
      "[Time : 0m 8s, Epoach : (40), Loss : 2.4616]\n",
      "[5, 6, 6, 5, 11, 17, 6, 5, 11, 6, 5, 5, 6, 21, 6, 5, 6, 5, 0, 5, 6, 0, 14, 6, 5, 2, 5, 6, 17, 2, 5, 6, 5, 5, 6, 10, 6, 5, 6, 10, 24, 6, 6, 6, 5, 6, 5, 2, 5, 6, 4, 5, 21, 6, 12, 5, 0, 2, 0, 21, 6, 0, 6, 6, 5, 6, 0, 20, 6, 5, 9, 6, 25, 9, 6, 6, 6, 0, 16, 2, 6, 17, 11, 17, 0, 0, 6, 6, 11, 5, 5, 11, 11, 16, 6, 16, 11, 6, 5] \n",
      "\n",
      "41\n",
      "42\n",
      "43\n",
      "44\n",
      "45\n",
      "46\n",
      "47\n",
      "48\n",
      "49\n",
      "50\n",
      "[Time : 0m 10s, Epoach : (50), Loss : 2.2952]\n",
      "[5, 0, 5, 6, 6, 5, 0, 5, 5, 6, 5, 11, 5, 0, 11, 5, 11, 6, 5, 0, 9, 6, 6, 6, 20, 11, 5, 21, 6, 5, 20, 5, 6, 5, 5, 17, 5, 5, 0, 11, 0, 10, 5, 6, 6, 6, 0, 25, 5, 0, 9, 15, 11, 0, 1, 16, 12, 5, 48, 0, 0, 5, 16, 6, 5, 5, 0, 5, 0, 6, 0, 6, 5, 17, 5, 0, 25, 2, 6, 5, 11, 6, 5, 6, 0, 6, 0, 5, 11, 20, 5, 6, 0, 5, 6, 6, 0, 5, 5] \n",
      "\n",
      "51\n",
      "52\n",
      "53\n",
      "Saving before quit...\n",
      "Saved as rnn_model1512562445.pt\n"
     ]
    }
   ],
   "source": [
    "# Required Params\n",
    "input_size = cb.size()\n",
    "output_size = cb.size()\n",
    "start_sequence = cb.get_number(\"A\")\n",
    "# Model\n",
    "decoder = RNN(input_size, hidden_size, output_size, n_layers)\n",
    "optimizer = torch.optim.Adam(decoder.parameters(), lr)\n",
    "criterion = nn.CrossEntropyLoss()\n",
    "start = time.time()\n",
    "all_losses = []\n",
    "loss_avg = 0\n",
    "\n",
    "try:\n",
    "    if (n_epochs == -1):\n",
    "        epoch = 0\n",
    "        while (True):\n",
    "            epoch += 1\n",
    "            loss = train(decoder, optimizer, criterion, sequence_len, batch_size , *random_training_set(data_batch, sequence_len, batch_size))\n",
    "            loss_avg += loss\n",
    "            \n",
    "            print(epoch)\n",
    "            if epoch % cycle == 0:\n",
    "                print('[Time : %s, Epoach : (%d), Loss : %.4f]' % (time_since(start), epoch, loss))\n",
    "                print(predict(decoder, start_sequence), '\\n')\n",
    "                #save(decoder, \"./model/rnn_model\"+str(time.time()))\n",
    "\n",
    "    else :\n",
    "        print(\"hi\")\n",
    "        \n",
    "except KeyboardInterrupt:\n",
    "    print(\"Saving before quit...\")\n",
    "    save(decoder, \"./model/rnn_model\"+str(time.time()))"
   ]
  },
  {
   "cell_type": "code",
   "execution_count": null,
   "metadata": {
    "collapsed": true
   },
   "outputs": [],
   "source": []
  },
  {
   "cell_type": "code",
   "execution_count": null,
   "metadata": {
    "collapsed": true
   },
   "outputs": [],
   "source": []
  }
 ],
 "metadata": {
  "kernelspec": {
   "display_name": "Python 3",
   "language": "python",
   "name": "python3"
  },
  "language_info": {
   "codemirror_mode": {
    "name": "ipython",
    "version": 3
   },
   "file_extension": ".py",
   "mimetype": "text/x-python",
   "name": "python",
   "nbconvert_exporter": "python",
   "pygments_lexer": "ipython3",
   "version": "3.6.3"
  }
 },
 "nbformat": 4,
 "nbformat_minor": 2
}
