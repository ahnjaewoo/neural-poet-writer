{
 "cells": [
  {
   "cell_type": "code",
   "execution_count": 1,
   "metadata": {
    "collapsed": true
   },
   "outputs": [],
   "source": [
    "# represent character as a number, vector\n",
    "# \n",
    "class code_book():\n",
    "    def __init__():\n",
    "        self.book_size = 0\n",
    "        self.codes = dict()\n",
    "    # gather character to new vector, and remember the mapping\n",
    "    def gather(character):\n",
    "        if(codes.get(character) == None):\n",
    "            self.codes[character] = self.book_size\n",
    "            self.book_size += 1\n",
    "    # save to a file\n",
    "    def save():\n",
    "        \n",
    "    def get_vectors(text):\n",
    "        text_num = [self.code_book[character] for character in text]\n",
    "        vectors = np.zeros(len(text), self.length)\n",
    "        for i in xrange(len(text)):\n",
    "            vectors[i][text_num[i]] = 1\n",
    "        return vectors\n",
    "    # length of a vector (=vector size)\n",
    "    def size():\n",
    "        return self.book_size\n",
    "        "
   ]
  }
 ],
 "metadata": {
  "kernelspec": {
   "display_name": "Python 3",
   "language": "python",
   "name": "python3"
  },
  "language_info": {
   "codemirror_mode": {
    "name": "ipython",
    "version": 3
   },
   "file_extension": ".py",
   "mimetype": "text/x-python",
   "name": "python",
   "nbconvert_exporter": "python",
   "pygments_lexer": "ipython3",
   "version": "3.6.3"
  }
 },
 "nbformat": 4,
 "nbformat_minor": 1
}
