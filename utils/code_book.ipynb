{
 "cells": [
  {
   "cell_type": "code",
   "execution_count": 88,
   "metadata": {
    "collapsed": true
   },
   "outputs": [],
   "source": [
    "import codecs\n",
    "import numpy as np\n",
    "\n",
    "# represent character as a number, vector\n",
    "# \n",
    "class code_book():\n",
    "    def __init__(self):\n",
    "        self.vector_size = 0\n",
    "        self.codes = dict()\n",
    "    # gather - if given character is unknown, create mapping and add it to codes\n",
    "    def gather(self, character):\n",
    "        if(self.codes.get(character) == None):\n",
    "            self.codes[character] = self.vector_size\n",
    "            self.vector_size += 1\n",
    "    # save to a file with specific format, use codes\n",
    "    def save_to(self, filename):\n",
    "        f = codecs.open(filename, \"w\", 'utf-8')\n",
    "        codes = self.codes\n",
    "        for key, value in codes.items():\n",
    "            f.write(key+str(value)+'\\n')\n",
    "        f.close()\n",
    "    # load from a file of format assumption, form codes\n",
    "    def load_from(self, filename):\n",
    "        self.codes.clear()\n",
    "        f = codecs.open(filename, \"r\", 'utf-8')\n",
    "        lines = f.readlines()\n",
    "        for value in lines:\n",
    "            self.codes[value[0]] = int(value[1:-1])\n",
    "        f.close()\n",
    "    # get numpy vector representation of string, based on codes\n",
    "    def get_vectors(self, text):\n",
    "        text_num = [self.codes[character] for character in text]\n",
    "        vectors = np.zeros((len(text), self.vector_size))\n",
    "        for i in range(len(text)):\n",
    "            vectors[i][text_num[i]] = 1\n",
    "        return vectors\n",
    "    # length of a vector (=vector size)\n",
    "    def size(self):\n",
    "        return self.vector_size\n",
    "    # debug purpose only\n",
    "    def debug_print(self):\n",
    "        print(self.vector_size)\n",
    "        print(self.codes)\n",
    "        "
   ]
  },
  {
   "cell_type": "code",
   "execution_count": 89,
   "metadata": {},
   "outputs": [],
   "source": [
    "mac = code_book()"
   ]
  },
  {
   "cell_type": "code",
   "execution_count": 90,
   "metadata": {},
   "outputs": [
    {
     "name": "stdout",
     "output_type": "stream",
     "text": [
      "gather function test\n",
      "0\n",
      "{}\n",
      "1\n",
      "{'a': 0}\n",
      "3\n",
      "{'a': 0, 'b': 1, 'e': 2}\n",
      "4\n",
      "{'a': 0, 'b': 1, 'e': 2, 'f': 3}\n"
     ]
    }
   ],
   "source": [
    "print(\"gather function test\")\n",
    "mac.debug_print()\n",
    "mac.gather('a')\n",
    "mac.debug_print()\n",
    "mac.gather('b')\n",
    "mac.gather('e')\n",
    "mac.gather('a')\n",
    "mac.debug_print()\n",
    "mac.gather('f')\n",
    "mac.gather('a')\n",
    "mac.gather('b')\n",
    "mac.gather('a')\n",
    "mac.debug_print()"
   ]
  },
  {
   "cell_type": "code",
   "execution_count": 91,
   "metadata": {},
   "outputs": [
    {
     "name": "stdout",
     "output_type": "stream",
     "text": [
      "save function test\n"
     ]
    }
   ],
   "source": [
    "print(\"save function test\")\n",
    "mac.save_to('vector_save.txt')"
   ]
  },
  {
   "cell_type": "code",
   "execution_count": 92,
   "metadata": {},
   "outputs": [
    {
     "name": "stdout",
     "output_type": "stream",
     "text": [
      "load function test\n",
      "4\n",
      "{'a': 0, 'b': 1, 'e': 2, 'f': 3}\n"
     ]
    }
   ],
   "source": [
    "print(\"load function test\")\n",
    "mac.load_from('vector_save.txt')\n",
    "mac.debug_print()"
   ]
  },
  {
   "cell_type": "code",
   "execution_count": 93,
   "metadata": {},
   "outputs": [
    {
     "name": "stdout",
     "output_type": "stream",
     "text": [
      "vectors function test\n"
     ]
    },
    {
     "data": {
      "text/plain": [
       "array([[ 1.,  0.,  0.,  0.],\n",
       "       [ 1.,  0.,  0.,  0.],\n",
       "       [ 0.,  1.,  0.,  0.],\n",
       "       [ 0.,  0.,  1.,  0.],\n",
       "       [ 0.,  0.,  0.,  1.],\n",
       "       [ 0.,  1.,  0.,  0.],\n",
       "       [ 1.,  0.,  0.,  0.],\n",
       "       [ 0.,  0.,  1.,  0.]])"
      ]
     },
     "execution_count": 93,
     "metadata": {},
     "output_type": "execute_result"
    }
   ],
   "source": [
    "print(\"vectors function test\")\n",
    "mac.get_vectors(\"aabefbae\")"
   ]
  },
  {
   "cell_type": "code",
   "execution_count": 94,
   "metadata": {},
   "outputs": [
    {
     "name": "stdout",
     "output_type": "stream",
     "text": [
      "size function test\n"
     ]
    },
    {
     "data": {
      "text/plain": [
       "4"
      ]
     },
     "execution_count": 94,
     "metadata": {},
     "output_type": "execute_result"
    }
   ],
   "source": [
    "print(\"size function test\")\n",
    "mac.size()"
   ]
  }
 ],
 "metadata": {
  "kernelspec": {
   "display_name": "Python 3",
   "language": "python",
   "name": "python3"
  },
  "language_info": {
   "codemirror_mode": {
    "name": "ipython",
    "version": 3
   },
   "file_extension": ".py",
   "mimetype": "text/x-python",
   "name": "python",
   "nbconvert_exporter": "python",
   "pygments_lexer": "ipython3",
   "version": "3.6.3"
  }
 },
 "nbformat": 4,
 "nbformat_minor": 1
}
