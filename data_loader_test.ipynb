{
 "cells": [
  {
   "cell_type": "code",
   "execution_count": 7,
   "metadata": {
    "collapsed": true
   },
   "outputs": [],
   "source": [
    "from utils.data_loader import *"
   ]
  },
  {
   "cell_type": "code",
   "execution_count": 8,
   "metadata": {},
   "outputs": [
    {
     "name": "stdout",
     "output_type": "stream",
     "text": [
      "[[ 0  1  2]\n",
      " [ 9 10 11]\n",
      " [18 19 20]\n",
      " [27 28 29]\n",
      " [36 37 38]\n",
      " [45 46 47]\n",
      " [54 55 56]\n",
      " [63 64 65]\n",
      " [72 73 74]\n",
      " [81 82 83]]\n",
      "[[ 3  4  5]\n",
      " [12 13 14]\n",
      " [21 22 23]\n",
      " [30 31 32]\n",
      " [39 40 41]\n",
      " [48 49 50]\n",
      " [57 58 59]\n",
      " [66 67 68]\n",
      " [75 76 77]\n",
      " [84 85 86]]\n"
     ]
    }
   ],
   "source": [
    "x = np.arange(100)\n",
    "batch_size = 10\n",
    "seq_length = 3\n",
    "num_batch = int(len(x) / (batch_size * seq_length))\n",
    "\n",
    "# 딱 나누어 떨어지지 않는 경우, 남겨지는 부분을 버림.\n",
    "# https://github.com/sherjilozair/char-rnn-tensorflow/blob/master/utils.py 의 이해를 위하여 작성해본 코드.\n",
    "x = x[:num_batch * batch_size * seq_length]\n",
    "x_batches = np.split(x.reshape(batch_size, -1), num_batch, 1)\n",
    "print(x_batches[0])\n",
    "print(x_batches[1])"
   ]
  },
  {
   "cell_type": "code",
   "execution_count": 9,
   "metadata": {
    "collapsed": true
   },
   "outputs": [],
   "source": [
    "# 계획\n",
    "# https://chunml.github.io/ChunML.github.io/project/Creating-Text-Generator-Using-Recurrent-Neural-Network/ 를 참고하여\n",
    "# input의 각 글자는 알파벳 총 개수 + 1만큼의 길이를 가진 vector로 표현한다.\n",
    "# 실험적 : vector 마지막 값은 시작으로부터의 길이값을 나타낸다. 길이 정보를 넣어주었을때 어느정도 선에서\n",
    "#          시를 끊을 지 학습 할 수 있을 것이라고 생각했기 때문이다.\n",
    "# 각 vector 원소는 각 알파벳을 나타낸다.\n",
    "# [0, 0, 0, 0, ... 0] 은 아무것도 아닌 글자를 나타낸다. 즉 아무것도 없는 상태의 시작, 또는 종료, 또는 종료 이후의 글자이다.\n",
    "gatherer = data_gatherer()"
   ]
  },
  {
   "cell_type": "code",
   "execution_count": 10,
   "metadata": {
    "collapsed": true
   },
   "outputs": [],
   "source": [
    "gatherer.clean()"
   ]
  },
  {
   "cell_type": "code",
   "execution_count": 11,
   "metadata": {
    "collapsed": true
   },
   "outputs": [],
   "source": [
    "gatherer.gather(['crawler/text1.txt', 'crawler/text2.txt'])"
   ]
  }
 ],
 "metadata": {
  "kernelspec": {
   "display_name": "Python 3",
   "language": "python",
   "name": "python3"
  },
  "language_info": {
   "codemirror_mode": {
    "name": "ipython",
    "version": 3
   },
   "file_extension": ".py",
   "mimetype": "text/x-python",
   "name": "python",
   "nbconvert_exporter": "python",
   "pygments_lexer": "ipython3",
   "version": "3.6.3"
  }
 },
 "nbformat": 4,
 "nbformat_minor": 2
}
